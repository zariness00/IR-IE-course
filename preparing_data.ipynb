{
 "cells": [
  {
   "cell_type": "code",
   "execution_count": 1,
   "metadata": {},
   "outputs": [],
   "source": [
    "import pandas as pd"
   ]
  },
  {
   "cell_type": "code",
   "execution_count": 18,
   "metadata": {},
   "outputs": [
    {
     "data": {
      "text/html": [
       "<div>\n",
       "<style scoped>\n",
       "    .dataframe tbody tr th:only-of-type {\n",
       "        vertical-align: middle;\n",
       "    }\n",
       "\n",
       "    .dataframe tbody tr th {\n",
       "        vertical-align: top;\n",
       "    }\n",
       "\n",
       "    .dataframe thead th {\n",
       "        text-align: right;\n",
       "    }\n",
       "</style>\n",
       "<table border=\"1\" class=\"dataframe\">\n",
       "  <thead>\n",
       "    <tr style=\"text-align: right;\">\n",
       "      <th></th>\n",
       "      <th>Song</th>\n",
       "      <th>Lyrics</th>\n",
       "    </tr>\n",
       "  </thead>\n",
       "  <tbody>\n",
       "    <tr>\n",
       "      <th>0</th>\n",
       "      <td>Please Please Please</td>\n",
       "      <td>I know I have good judgment, I know I have goo...</td>\n",
       "    </tr>\n",
       "    <tr>\n",
       "      <th>1</th>\n",
       "      <td>Bed Chem</td>\n",
       "      <td>I was in a sheer dress the day that we met\\nWe...</td>\n",
       "    </tr>\n",
       "    <tr>\n",
       "      <th>2</th>\n",
       "      <td>Juno</td>\n",
       "      <td>Don't have to tell your hot ass a thing\\nOh ye...</td>\n",
       "    </tr>\n",
       "    <tr>\n",
       "      <th>3</th>\n",
       "      <td>Taste</td>\n",
       "      <td>Oh, I leave quite an impression\\nFive feet to ...</td>\n",
       "    </tr>\n",
       "    <tr>\n",
       "      <th>4</th>\n",
       "      <td>Espresso</td>\n",
       "      <td>Now he's thinkin' 'bout me every night, oh\\nIs...</td>\n",
       "    </tr>\n",
       "  </tbody>\n",
       "</table>\n",
       "</div>"
      ],
      "text/plain": [
       "                   Song                                             Lyrics\n",
       "0  Please Please Please  I know I have good judgment, I know I have goo...\n",
       "1              Bed Chem  I was in a sheer dress the day that we met\\nWe...\n",
       "2                  Juno  Don't have to tell your hot ass a thing\\nOh ye...\n",
       "3                 Taste  Oh, I leave quite an impression\\nFive feet to ...\n",
       "4              Espresso  Now he's thinkin' 'bout me every night, oh\\nIs..."
      ]
     },
     "execution_count": 18,
     "metadata": {},
     "output_type": "execute_result"
    }
   ],
   "source": [
    "df = pd.read_csv('sabrina_carpenter.csv')\n",
    "df.head()"
   ]
  },
  {
   "cell_type": "code",
   "execution_count": 19,
   "metadata": {},
   "outputs": [
    {
     "name": "stdout",
     "output_type": "stream",
     "text": [
      "There are 99 in the dataset.\n"
     ]
    }
   ],
   "source": [
    "print(f\"There are {df.shape[0]} in the dataset.\")"
   ]
  },
  {
   "cell_type": "code",
   "execution_count": 15,
   "metadata": {},
   "outputs": [
    {
     "name": "stdout",
     "output_type": "stream",
     "text": [
      "Number of duplicates, 0\n"
     ]
    }
   ],
   "source": [
    "print(f\"Number of duplicates, {len(df[df.duplicated()])}\")"
   ]
  },
  {
   "cell_type": "code",
   "execution_count": 5,
   "metadata": {},
   "outputs": [],
   "source": [
    "import re"
   ]
  },
  {
   "cell_type": "code",
   "execution_count": 20,
   "metadata": {},
   "outputs": [],
   "source": [
    "df.drop(10, axis=0, inplace=True) #Please please radio edit\n",
    "df.drop(53, axis = 0 , inplace= True)\n",
    "df.drop(58, axis=0, inplace=True) #I cant stop me ft with other artists\n",
    "df.drop(69, axis=0, inplace=True)\n",
    "df.drop(70, axis=0, inplace=True)\n",
    "df.drop(73, axis = 0, inplace = True) #Please please remix\n",
    "df.drop(82, axis= 0, inplace = True) #Espresso Espressooooo Version\n",
    "df.drop(83, axis= 0, inplace = True) #Please please sped up\n",
    "df.drop(91, axis = 0, inplace = True) #And Coi Leray Nonsense Remix\t\n",
    "df.drop(93, axis = 0, inplace = True) #And Sofia Carson Were The Babysitters\n",
    "df.reset_index(inplace=True)"
   ]
  },
  {
   "cell_type": "code",
   "execution_count": 21,
   "metadata": {},
   "outputs": [
    {
     "data": {
      "text/plain": [
       "0     Please Please Please\n",
       "1                 Bed Chem\n",
       "2                     Juno\n",
       "3                    Taste\n",
       "4                 Espresso\n",
       "5                     Skin\n",
       "6              Good Graces\n",
       "7             Slim Pickins\n",
       "8            Sharpest Tool\n",
       "9          Dumb And Poetic\n",
       "10             Coincidence\n",
       "11              Dont Smile\n",
       "12            Lie To Girls\n",
       "13              Busy Woman\n",
       "14                  Thumbs\n",
       "Name: Song, dtype: object"
      ]
     },
     "execution_count": 21,
     "metadata": {},
     "output_type": "execute_result"
    }
   ],
   "source": [
    "df[\"Song\"][:15]"
   ]
  },
  {
   "cell_type": "code",
   "execution_count": 22,
   "metadata": {},
   "outputs": [
    {
     "data": {
      "text/plain": [
       "89"
      ]
     },
     "execution_count": 22,
     "metadata": {},
     "output_type": "execute_result"
    }
   ],
   "source": [
    "len(df)"
   ]
  },
  {
   "cell_type": "code",
   "execution_count": 23,
   "metadata": {},
   "outputs": [],
   "source": [
    "df.to_csv(\"sabrina_carpenter_cleaned.csv\", index = False)"
   ]
  }
 ],
 "metadata": {
  "kernelspec": {
   "display_name": "venv",
   "language": "python",
   "name": "python3"
  },
  "language_info": {
   "codemirror_mode": {
    "name": "ipython",
    "version": 3
   },
   "file_extension": ".py",
   "mimetype": "text/x-python",
   "name": "python",
   "nbconvert_exporter": "python",
   "pygments_lexer": "ipython3",
   "version": "3.9.7"
  }
 },
 "nbformat": 4,
 "nbformat_minor": 2
}
