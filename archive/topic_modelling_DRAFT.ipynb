{
 "cells": [
  {
   "cell_type": "code",
   "execution_count": 1,
   "metadata": {},
   "outputs": [],
   "source": [
    "import pandas as pd"
   ]
  },
  {
   "cell_type": "code",
   "execution_count": 3,
   "metadata": {},
   "outputs": [],
   "source": [
    "df = pd.read_csv('C:\\\\Users\\\\exol1\\\\IR-IE-course\\\\lyrics\\\\sabrina_carpenter_cleaned.csv')\n"
   ]
  },
  {
   "cell_type": "code",
   "execution_count": 5,
   "metadata": {},
   "outputs": [
    {
     "data": {
      "text/plain": [
       "[\"I know I have good judgment, I know I have good taste\\nIt's funny and it's ironic that only I feel that way\\nI promise 'em that you're different and everyone makes mistakes\\nBut just don't\\nI heard that you're an actor, so act like a stand-up guy\\nWhatever devil's inside you, don't let him out tonight\\nI tell them it's just your culture and everyone rolls their eyes\\nYeah, I know\\nAll I'm asking, baby\\nPlease, please, please\\nDon't prove I'm right\\nAnd please, pleasе, please\\nDon't bring me to tеars when I just did my makeup so nice\\nHeartbreak is one thing, my ego's another\\nI beg you, don't embarrass me, motherfucker, oh\\nPlease, please, please \\nWell, I have a fun idea, babe , maybe just stay inside\\nI know you're cravin' some fresh air, but the ceiling fan is so nice \\nAnd we could live so happily if no one knows that you're with me\\nI'm just kidding, but really , really, really\\nPlease, please, please \\nDon't prove I'm right\\nAnd please, please, please\\nDon't bring me to tears when I just did my makeup so nice\\nHeartbreak is one thing , my ego's another \\nI beg you, don't embarrass me, motherfucker, oh\\nPlease, please, please \\nIf you wanna go and be stupid\\nDon't do it in front of me\\nIf you don't wanna cry to my music\\nDon't make me hate you prolifically\\nPlease, please, please \\nPlease, please, please \\nPlease , please , please\",\n",
       " \"I was in a sheer dress the day that we met\\nWe were both in a rush, we talked for a sec\\nYour friend hit me up so we could connect\\nAnd what are the odds? You send me a text\\nAnd now the next thing I know, I'm like\\nManifest that you're oversized\\nI digress, got me scrollin' like\\nOut of breath, got me goin' like\\nOoh \\nWho's the cute boy with the white jacket and the thick accent? Like\\nOoh \\nMaybe it's all in my head\\nBut I bеt we'd have really good bеd chem\\nHow you pick me up, pull 'em down, turn me 'round\\nOh, it just makes sense\\nHow you talk so sweet when you're doin' bad things\\nThat's bed  chem \\nHow you're lookin' at me, yeah, I know what that means\\nAnd I'm obsessed\\nAre you free next week?\\nI bet we'd have really good\\nCome right on me, I mean camaraderie\\nSaid you're not in my time zone, but you wanna be\\nWhere art thou? Why not uponeth me?\\nSee it in my mind, let's fulfill the prophecy\\nOoh \\nWho's the cute guy with the wide blue eyes and the big bad mm? Like\\nOoh \\nI know I sound a bit redundant\\nBut I bet we'd have really good bed chem\\nHow you pick me up, pull 'em down, turn me 'round\\nOh, it just makes sense \\nHow you talk so sweet when you're doin' bad things \\nThat's bed chem \\nHow you're lookin' at me, yeah, I know what that means\\nAnd I'm obsessed \\nAre you free next week?\\nI bet we'd have really good \\nAnd I bet we'd both arrive at the same time \\nAnd I bet the thermostat's set at six-nine \\nAnd I bet it's even better than in my head \\nHow you pick me up, pull 'em down, turn me 'round \\nOh, it just makes sense \\nHow you talk so sweet when you're doin' bad things\\nThat's bed chem \\nHow you're lookin' at me, yeah, I know what that means\\nAnd I'm obsessed \\nAre you free next week? \\nI bet we'd have really good\\nHa \\n, ha\\nNo-no-no\\nHa \\n, ha\\nNo-no-no, no, oh no, oh\\nHa \\n, ha \\nNo-no-no, oh\\nHa \\n, ha\\nOoh, oh, baby\",\n",
       " \"Don't have to tell your hot ass a thing\\nOh yeah, you just get it\\nWhole package, babe, I like the way you fit\\nGod bless your dad's genetics, mm, uh\\nYou make me wanna make you fall in love\\nOh, late at night, I'm thinking 'bout you, ah-ah\\nWanna try out my fuzzy pink handcuffs?\\nOh, I hear you knockin', baby, come on up\\nI know you want my touch for life\\nIf you love me right, then who knows?\\nI might let you make me Juno\\nYou know I just might\\nLet you lock me down tonight\\nOne of me is cute, but two though?\\nGive it to me, baby\\nYou make me wanna make you fall in love \\nI showed my friends, then we high-fived \\nSorry if you feel objеctified \\nCan't help myself, hormonеs are high\\nGive me more than just some butterflies\\nYou make me wanna make you fall in love\\nOh, late at night, I'm thinking 'bout you, ah-ah\\nWanna try out some freaky positions?\\nHave you ever tried this one?\\nI know you want my touch for life\\nIf you love me right, then who knows?\\nI might let you make me Juno\\nYou know I just might\\nLet you lock me down tonight\\nOne of me is cute, but two though?\\nGive it to me, baby\\nYou make me wanna make you fall in love\\nAdore me\\nHold me and explore me\\nMark your territory \\nTell me I'm the only, only, only, only one \\nAdore me\\nHold me and explore me \\nI'm so fuckin' horny\\nTell me I'm the only, only, only, only one\\nAh\\nOoh-ooh\\n I know you want my touch for life\\nIf you love me right, then who knows?\\nI might let you make me Juno\\nYou know I just might \\nLet you lock me down tonight\\nOne of me is cute, but two though?\\nGive it to me, baby\\nYou make me wanna make you fall in love\"]"
      ]
     },
     "execution_count": 5,
     "metadata": {},
     "output_type": "execute_result"
    }
   ],
   "source": [
    "lyrics_list = df[\"Lyrics\"].tolist()\n",
    "lyrics_list[:3]"
   ]
  },
  {
   "cell_type": "code",
   "execution_count": 6,
   "metadata": {},
   "outputs": [],
   "source": [
    "import re"
   ]
  },
  {
   "cell_type": "code",
   "execution_count": 7,
   "metadata": {},
   "outputs": [
    {
     "data": {
      "text/plain": [
       "['I know I have good judgment, I know I have good taste',\n",
       " \"It's funny and it's ironic that only I feel that way\",\n",
       " \"I promise 'em that you're different and everyone makes mistakes\"]"
      ]
     },
     "execution_count": 7,
     "metadata": {},
     "output_type": "execute_result"
    }
   ],
   "source": [
    "cleaned_lyrics_list = []\n",
    "for song_lyrics in lyrics_list:\n",
    "    no_brackets = re.sub(r'\\(.*?\\)', '', song_lyrics)\n",
    "    # replace slashes with spaces\n",
    "    no_slashes = re.sub(r'/', ' ', no_brackets)\n",
    "    # split the cleaned lyrics into separate lines\n",
    "    lines = no_slashes.split('\\n')\n",
    "    # remove any remaining empty lines\n",
    "    lines = [line for line in lines if line.strip() != '']\n",
    "    cleaned_lyrics_list.extend(lines)\n",
    "\n",
    "cleaned_lyrics_list[:3]"
   ]
  },
  {
   "cell_type": "code",
   "execution_count": 9,
   "metadata": {},
   "outputs": [],
   "source": [
    "with open('lyrics.txt', 'w', encoding=\"utf-8\") as file:\n",
    "    for line in cleaned_lyrics_list:\n",
    "        file.write(str(line) + '\\n')"
   ]
  },
  {
   "cell_type": "code",
   "execution_count": 10,
   "metadata": {},
   "outputs": [],
   "source": [
    "with open(\"lyrics.txt\", \"r\", encoding=\"utf-8\") as file:\n",
    "    lyrics = file.read()"
   ]
  },
  {
   "cell_type": "code",
   "execution_count": 11,
   "metadata": {},
   "outputs": [
    {
     "data": {
      "text/plain": [
       "['I know I have good judgment, I know I have good taste',\n",
       " \"It's funny and it's ironic that only I feel that way\",\n",
       " \"I promise 'em that you're different and everyone makes mistakes\"]"
      ]
     },
     "execution_count": 11,
     "metadata": {},
     "output_type": "execute_result"
    }
   ],
   "source": [
    "corpus = lyrics.split(\"\\n\")\n",
    "corpus[:3]"
   ]
  },
  {
   "cell_type": "code",
   "execution_count": 14,
   "metadata": {},
   "outputs": [],
   "source": [
    "import sys\n",
    "MODULE_FULL_PATH = \"C:\\\\Users\\\\exol1\\\\IR-IE-course\\\\preprocessing.py\"\n",
    "sys.path.insert(1, MODULE_FULL_PATH)\n"
   ]
  },
  {
   "cell_type": "code",
   "execution_count": 20,
   "metadata": {},
   "outputs": [],
   "source": [
    "import preprocessing as pre"
   ]
  },
  {
   "cell_type": "code",
   "execution_count": 1,
   "metadata": {},
   "outputs": [
    {
     "ename": "NameError",
     "evalue": "name 'corpus' is not defined",
     "output_type": "error",
     "traceback": [
      "\u001b[1;31m---------------------------------------------------------------------------\u001b[0m",
      "\u001b[1;31mNameError\u001b[0m                                 Traceback (most recent call last)",
      "Cell \u001b[1;32mIn[1], line 1\u001b[0m\n\u001b[1;32m----> 1\u001b[0m processed_corpus \u001b[38;5;241m=\u001b[39m [pre\u001b[38;5;241m.\u001b[39mpreprocess_text(song) \u001b[38;5;28;01mfor\u001b[39;00m song \u001b[38;5;129;01min\u001b[39;00m \u001b[43mcorpus\u001b[49m]\n",
      "\u001b[1;31mNameError\u001b[0m: name 'corpus' is not defined"
     ]
    }
   ],
   "source": [
    "processed_corpus = [pre.preprocess_text(song) for song in corpus]"
   ]
  }
 ],
 "metadata": {
  "kernelspec": {
   "display_name": "venv",
   "language": "python",
   "name": "python3"
  },
  "language_info": {
   "codemirror_mode": {
    "name": "ipython",
    "version": 3
   },
   "file_extension": ".py",
   "mimetype": "text/x-python",
   "name": "python",
   "nbconvert_exporter": "python",
   "pygments_lexer": "ipython3",
   "version": "3.9.7"
  }
 },
 "nbformat": 4,
 "nbformat_minor": 2
}
